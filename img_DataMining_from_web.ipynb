{
  "nbformat": 4,
  "nbformat_minor": 0,
  "metadata": {
    "colab": {
      "name": "image_DM_from_web.ipynb",
      "provenance": [],
      "authorship_tag": "ABX9TyNUMJbOebFqR+v2EVawkb3B",
      "include_colab_link": true
    },
    "kernelspec": {
      "name": "python3",
      "display_name": "Python 3"
    }
  },
  "cells": [
    {
      "cell_type": "markdown",
      "metadata": {
        "id": "view-in-github",
        "colab_type": "text"
      },
      "source": [
        "<a href=\"https://colab.research.google.com/github/DGKang234/Collection_small_projects/blob/main/img_DataMining_from_web.ipynb\" target=\"_parent\"><img src=\"https://colab.research.google.com/assets/colab-badge.svg\" alt=\"Open In Colab\"/></a>"
      ]
    },
    {
      "cell_type": "markdown",
      "metadata": {
        "id": "pSd0g4BpscDe"
      },
      "source": [
        "# Downloading images from URL **e.g.** from GOOGLE\n",
        "Here I used selenium package to work with google chrome interactively.\n",
        "Selenium : https://www.selenium.dev/\n",
        "\n",
        "*   Please download the driver and pass the path\n",
        "\n"
      ]
    },
    {
      "cell_type": "code",
      "metadata": {
        "id": "hvXJsK7ttUsy"
      },
      "source": [
        "# Download selenium module\n",
        "! pip install selenium"
      ],
      "execution_count": null,
      "outputs": []
    },
    {
      "cell_type": "code",
      "metadata": {
        "id": "KVKNAtwysSxw"
      },
      "source": [
        "# import modules\n",
        "from selenium import webdriver\n",
        "from selenium.webdriver.common.keys import Keys\n",
        "import time\n",
        "import urllib.request"
      ],
      "execution_count": null,
      "outputs": []
    },
    {
      "cell_type": "code",
      "metadata": {
        "colab": {
          "base_uri": "https://localhost:8080/",
          "height": 35
        },
        "id": "7P6TuSCSOKvv",
        "outputId": "8fd110bd-600f-4ffa-e6c5-40a5db6e1896"
      },
      "source": [
        "search_word = str(input(\"Which image would you like to search and download from GOOGLE? : \"))\n",
        "driver = webdriver.Chrome('/path/to/the/chromedriver')                                                                            # Call the driver\n",
        "driver.get(\"https://www.google.co.uk/imghp?hl=en-GB&tab=ri&ogbl\")                                                                 # access the address\n",
        "\n",
        "# find search bar\n",
        "elem = driver.find_element_by_name(\"q\")\n",
        "elem.send_keys(search_word)\n",
        "elem.send_keys(Keys.RETURN)             # equivalent to enter key\n",
        "\n",
        "SCROLL_PAUSE_TIME = 1\n",
        "# Get scroll height\n",
        "last_height = driver.execute_script(\"return document.body.scrollHeight\")            # find browser's height and save as a var\n",
        "\n",
        "while True:\n",
        "    # Scroll down to bottom\n",
        "    driver.execute_script(\"window.scrollTo(0, document.body.scrollHeight);\")        # scroll down with the height of the brower\n",
        "\n",
        "    # Wait to load page\n",
        "    time.sleep(SCROLL_PAUSE_TIME)                                                   # wait for loading\n",
        "\n",
        "    # Calculate new scroll height and compare with last scroll height\n",
        "    new_height = driver.execute_script(\"return document.body.scrollHeight\")         # measure the height of the browser (again)\n",
        "    if new_height == last_height:                                                   # if they are same\n",
        "        try:\n",
        "            driver.find_element_by_css_selector(\".mye4qd\").click()                  # click \"more image\" button at the end of the page                                                             # then, it presume there is no more contents\n",
        "        except:\n",
        "            break\n",
        "    last_height = new_height\n",
        "\n",
        "images = driver.find_elements_by_css_selector(\".rg_i.Q4LuWd\")                       # click small images\n",
        "count = 1\n",
        "for image in images:\n",
        "     try:\n",
        "          print(str(count) + \".jpg is downloading...\")\n",
        "          image.click()\n",
        "          time.sleep(3)\n",
        "          # select the magnified image\n",
        "          imgUrl = driver.find_element_by_xpath('/html/body/div[2]/c-wiz/div[4]/div[2]/div[3]/div/div/div[3]/div[2]/c-wiz/div[1]/div[1]/div/div[2]/a/img').get_attribute(\"src\")                         # using xpath to download only \"big\" images\n",
        "          # download the image from \"src\"\n",
        "          urllib.request.urlretrieve(imgUrl, str(count) + \".jpg\")\n",
        "          count = count + 1\n",
        "     except:\n",
        "          pass\n",
        "print(\"====== All images that appeared in google have downloaded! ======\")"
      ],
      "execution_count": null,
      "outputs": [
        {
          "output_type": "execute_result",
          "data": {
            "application/vnd.google.colaboratory.intrinsic+json": {
              "type": "string"
            },
            "text/plain": [
              "'/content'"
            ]
          },
          "metadata": {
            "tags": []
          },
          "execution_count": 2
        }
      ]
    }
  ]
}